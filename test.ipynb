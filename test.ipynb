{
 "cells": [
  {
   "cell_type": "code",
   "execution_count": 3,
   "id": "614dd819",
   "metadata": {},
   "outputs": [
    {
     "name": "stdout",
     "output_type": "stream",
     "text": [
      "ColumnTransformer(transformers=[('num_pipeline',\n",
      "                                 Pipeline(steps=[('imputer',\n",
      "                                                  SimpleImputer(strategy='median')),\n",
      "                                                 ('scaler', StandardScaler())]),\n",
      "                                 ['writing_score', 'reading_score']),\n",
      "                                ('cat_pipelines',\n",
      "                                 Pipeline(steps=[('imputer',\n",
      "                                                  SimpleImputer(strategy='most_frequent')),\n",
      "                                                 ('one_hot_encoder',\n",
      "                                                  OneHotEncoder()),\n",
      "                                                 ('scaler',\n",
      "                                                  StandardScaler(with_mean=False))]),\n",
      "                                 ['gender', 'race_ethnicity',\n",
      "                                  'parental_level_of_education', 'lunch',\n",
      "                                  'test_preparation_course'])])\n"
     ]
    }
   ],
   "source": [
    "import pickle\n",
    "import os\n",
    "# Open the file in read-binary ('rb') mode\n",
    "with open('artifacts\\proprocessor.pkl', 'rb') as file:\n",
    "    data = pickle.load(file)\n",
    "\n",
    "# Now `data` contains the stored object\n",
    "print(data)\n"
   ]
  },
  {
   "cell_type": "code",
   "execution_count": 4,
   "id": "76c93a3e",
   "metadata": {},
   "outputs": [
    {
     "name": "stdout",
     "output_type": "stream",
     "text": [
      "RandomForestRegressor(n_estimators=256)\n"
     ]
    }
   ],
   "source": [
    "import pickle\n",
    "import os\n",
    "# Open the file in read-binary ('rb') mode\n",
    "with open('artifacts\\model.pkl', 'rb') as file:\n",
    "    data = pickle.load(file)\n",
    "\n",
    "# Now `data` contains the stored object\n",
    "print(data)\n"
   ]
  }
 ],
 "metadata": {
  "kernelspec": {
   "display_name": "Python 3",
   "language": "python",
   "name": "python3"
  },
  "language_info": {
   "codemirror_mode": {
    "name": "ipython",
    "version": 3
   },
   "file_extension": ".py",
   "mimetype": "text/x-python",
   "name": "python",
   "nbconvert_exporter": "python",
   "pygments_lexer": "ipython3",
   "version": "3.10.16"
  }
 },
 "nbformat": 4,
 "nbformat_minor": 5
}
